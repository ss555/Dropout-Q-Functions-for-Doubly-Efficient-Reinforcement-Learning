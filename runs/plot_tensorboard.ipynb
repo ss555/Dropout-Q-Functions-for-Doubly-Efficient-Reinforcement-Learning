{
 "cells": [
  {
   "cell_type": "code",
   "execution_count": 2,
   "metadata": {
    "collapsed": true,
    "ExecuteTime": {
     "end_time": "2023-11-28T11:39:01.444407100Z",
     "start_time": "2023-11-28T11:38:58.936573313Z"
    }
   },
   "outputs": [],
   "source": [
    "import sys\n",
    "from packaging import version\n",
    "import pandas as pd\n",
    "from matplotlib import pyplot as plt\n",
    "import seaborn as sns\n",
    "from scipy import stats\n",
    "import tensorboard as tb\n",
    "from tbparse import SummaryReader\n",
    "from tensorboard.backend.event_processing import event_accumulator\n",
    "from rlutils.utils import config_paper\n",
    "from matplotlib import rcParams\n",
    "rcParams['font.family'] = \"serif\"\n",
    "rcParams['font.serif'] = 'Georgia'\n",
    "rcParams['font.size'] = 20\n",
    "rcParams['mathtext.fontset'] = 'stix'\n",
    "rcParams[\"figure.dpi\"] = 100\n",
    "\n",
    "fontsize = 20\n",
    "colors = config_paper()\n",
    "\n",
    "def load_events(event_path):\n",
    "    event_acc = event_accumulator.EventAccumulator(event_path)\n",
    "    event_acc.Reload()\n",
    "    return event_acc\n",
    "\n",
    "def tensorboard_to_dataframe(event_acc, tag):\n",
    "    data = []\n",
    "\n",
    "    for scalar_event in event_acc.Scalars(tag):\n",
    "        data.append({\n",
    "            'wall_time': scalar_event.wall_time,\n",
    "            'step': scalar_event.step,\n",
    "            'value': scalar_event.value\n",
    "        })\n",
    "\n",
    "    return pd.DataFrame(data)\n",
    "\n",
    "#plotting\n",
    "from stable_baselines3 import PPO\n",
    "from rlutils.envs import *\n",
    "import gym\n",
    "from rlutils.env_wrappers import RlTrainer\n"
   ]
  },
  {
   "cell_type": "code",
   "execution_count": 3,
   "outputs": [
    {
     "name": "stdout",
     "output_type": "stream",
     "text": [
      "Using matplotlib backend: <object object at 0x7f4e771888c0>\n"
     ]
    }
   ],
   "source": [
    "%matplotlib\n",
    "# plt.style.use('gadfly')\n",
    "#plt.style.use('seaborn-paper')\n",
    "#plt.style.use('ggplot')\n",
    "#plt.style.use('seaborn-deep')\n",
    "from matplotlib import rcParams\n",
    "rcParams['font.family'] = \"serif\"\n",
    "rcParams['font.serif'] = 'Georgia'\n",
    "rcParams['font.size'] = 20\n",
    "rcParams['mathtext.fontset'] = 'stix'\n",
    "rcParams[\"figure.dpi\"] = 100\n",
    "\n",
    "fontsize = 20\n",
    "# env=gym.make('')\n",
    "fpath = '/home/sardor/1-THESE/2-Robotic_Fish/2-DDPG/deepFish/docs/0-results/moving/fish_ammorti/state/moving-v0'\n",
    "from rlutils.utils import plot_results"
   ],
   "metadata": {
    "collapsed": false,
    "ExecuteTime": {
     "end_time": "2023-11-28T11:39:04.554809628Z",
     "start_time": "2023-11-28T11:39:01.455720143Z"
    }
   }
  },
  {
   "cell_type": "code",
   "execution_count": 4,
   "outputs": [
    {
     "name": "stdout",
     "output_type": "stream",
     "text": [
      "['eval/mean_ev_rew' 'rollout/ep_len_mean' 'rollout/ep_rew_mean' 'time/fps'\n",
      " 'train/approx_kl' 'train/clip_fraction' 'train/clip_range'\n",
      " 'train/entropy_loss' 'train/explained_variance' 'train/learning_rate'\n",
      " 'train/loss' 'train/policy_gradient_loss' 'train/std' 'train/value_loss']\n"
     ]
    }
   ],
   "source": [
    "fname = '/home/sardor/1-THESE/2-Robotic_Fish/2-DDPG/deepFish/docs/0-results/fish-target-speed/<TimeLimit<FishMovingTargetSpeed<FishMovingTargetSpeed-v0>>>-11/06/2023_14:55_1/events.out.tfevents.1699278927.install-Alienware-Aurora-R11.1529124.0'\n",
    "reader = SummaryReader(fname)\n",
    "df = reader.scalars\n",
    "print(df['tag'].unique())\n",
    "\n",
    "fig, ax = plt.subplots(3, 1, figsize=(9,6),sharex=True)\n",
    "# Define labels for each subplot\n",
    "axis_labels = ['a', 'b', 'c']\n",
    "titles = ['mean evaluation reward', 'loss', 'entropy loss']\n",
    "for t, a, label, ly  in zip(['eval/mean_ev_rew','train/loss','train/entropy_loss'],ax[:],axis_labels,titles):\n",
    "    df_t = df[df['tag']==t]\n",
    "    plt.locator_params(nbins=6)\n",
    "    l=t.split('/')[1]\n",
    "    a.plot(df_t['step'],df_t['value'],label=l)\n",
    "    a.set_title(ly)\n",
    "    # Add the label to the plot\n",
    "    a.text(0.015, 0.95, f'{label})', transform=a.transAxes, fontsize=14, fontweight='bold', va='top')\n",
    "    a.set_ylabel('value')\n",
    "\n",
    "plt.xlabel('time steps')\n",
    "plt.savefig(f'./{l}.pdf')\n",
    "plt.show()"
   ],
   "metadata": {
    "collapsed": false,
    "ExecuteTime": {
     "end_time": "2023-11-28T11:39:04.555100873Z",
     "start_time": "2023-11-28T11:39:01.483934856Z"
    }
   }
  },
  {
   "cell_type": "markdown",
   "source": [],
   "metadata": {
    "collapsed": false
   }
  },
  {
   "cell_type": "markdown",
   "source": [
    "# Visual servo"
   ],
   "metadata": {
    "collapsed": false
   }
  },
  {
   "cell_type": "code",
   "execution_count": 5,
   "outputs": [
    {
     "name": "stdout",
     "output_type": "stream",
     "text": [
      "['entropy/train' 'loss/critic_1' 'loss/critic_2' 'mean-q/q1' 'mean-q/q2'\n",
      " 'policy_loss/train' 'reward/test' 'reward/train']\n"
     ]
    },
    {
     "name": "stderr",
     "output_type": "stream",
     "text": [
      "<ipython-input-5-83d482f1640b>:25: UserWarning: This figure was using constrained_layout, but that is incompatible with subplots_adjust and/or tight_layout; disabling constrained_layout.\n",
      "  plt.tight_layout()\n"
     ]
    }
   ],
   "source": [
    "# %matplotlib\n",
    "# %precision 4\n",
    "# plt.style.use('ggplot')\n",
    "fname = './runs/FishMovingTargetSpeed-v0_2023-11-23/summary'\n",
    "fname = '/home/sardor/1-THESE/4-sample_code/00-current/Dropout-Q-Functions-for-Doubly-Efficient-Reinforcement-Learning/runs/FishMovingTargetSpeed-v0_2023-11-23/summary/events.out.tfevents.1700730047.install-Alienware-Aurora-R11.588697.0'\n",
    "reader = SummaryReader(fname)\n",
    "df = reader.scalars\n",
    "print(df['tag'].unique())\n",
    "\n",
    " # Filtering and plotting the data as per the user's script\n",
    "tags = ['reward/train', 'loss/critic_1', 'policy_loss/train']\n",
    "names = ['a) Training return', 'b) Mean critic loss', 'c) Policy loss']\n",
    "# fig, axs = plt.subplots(3, 1, figsize=(10, 15))  # Creating a 3x1 grid of plots\n",
    "s=0.8\n",
    "fig, axs = plt.subplots(1, 3, figsize=(25*s, 6*s), constrained_layout=True)  # Creating a 3x1 grid of plots\n",
    "\n",
    "for i, (t,n) in enumerate(zip(tags,names)):\n",
    "    df_t = df[df['tag'] == t]\n",
    "    axs[i].plot(df_t['step'], df_t['value'])\n",
    "    axs[i].set_xlabel('Steps')\n",
    "    axs[i].set_ylabel('Value')\n",
    "    axs[i].set_title(n)\n",
    "    # axs[i].set_title(t.split('/')[1])\n",
    "    axs[i].locator_params(nbins=4)\n",
    "plt.tight_layout()\n",
    "plt.savefig('./droq_3_vs_loss.pdf')\n",
    "# plt.show()"
   ],
   "metadata": {
    "collapsed": false,
    "ExecuteTime": {
     "end_time": "2023-11-28T11:39:04.753616907Z",
     "start_time": "2023-11-28T11:39:04.584511191Z"
    }
   }
  },
  {
   "cell_type": "code",
   "execution_count": 5,
   "outputs": [],
   "source": [],
   "metadata": {
    "collapsed": false,
    "ExecuteTime": {
     "end_time": "2023-11-28T11:39:04.753895064Z",
     "start_time": "2023-11-28T11:39:04.748992115Z"
    }
   }
  }
 ],
 "metadata": {
  "kernelspec": {
   "display_name": "Python 3",
   "language": "python",
   "name": "python3"
  },
  "language_info": {
   "codemirror_mode": {
    "name": "ipython",
    "version": 2
   },
   "file_extension": ".py",
   "mimetype": "text/x-python",
   "name": "python",
   "nbconvert_exporter": "python",
   "pygments_lexer": "ipython2",
   "version": "2.7.6"
  }
 },
 "nbformat": 4,
 "nbformat_minor": 0
}
