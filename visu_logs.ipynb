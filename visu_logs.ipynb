{
 "cells": [
  {
   "cell_type": "code",
   "execution_count": 1,
   "metadata": {
    "ExecuteTime": {
     "end_time": "2023-11-22T22:25:47.292158783Z",
     "start_time": "2023-11-22T22:25:47.288954942Z"
    }
   },
   "outputs": [],
   "source": [
    "# 1. Import necessary libraries\n",
    "# 2. Define a function that takes in a directory path as input\n",
    "# 3. Create an empty list to store the processed dataframes\n",
    "# 4. Use os.listdir() to get a list of all files in the directory\n",
    "# 5. Use a for loop to iterate through the list of files\n",
    "# 6. Check if the file is a csv file using the .endswith() method\n",
    "# 7. If it is a csv file, use pd.read_csv() to read the file into a dataframe\n",
    "# 8. Process the dataframe as needed (e.g. drop columns, rename columns, etc.)\n",
    "# 9. Append the processed dataframe to the list of processed dataframes\n",
    "# 10. Return the list of processed dataframes"
   ]
  },
  {
   "cell_type": "code",
   "execution_count": 2,
   "metadata": {
    "ExecuteTime": {
     "end_time": "2023-11-22T22:25:48.856944539Z",
     "start_time": "2023-11-22T22:25:47.291426796Z"
    }
   },
   "outputs": [],
   "source": [
    "import os\n",
    "import numpy as np\n",
    "import pandas as pd\n",
    "import matplotlib.pyplot as plt\n",
    "import seaborn as sns\n",
    "import warnings\n",
    "import subprocess"
   ]
  },
  {
   "cell_type": "code",
   "execution_count": 3,
   "outputs": [
    {
     "name": "stdout",
     "output_type": "stream",
     "text": [
      "rsync command executed successfully.\n"
     ]
    }
   ],
   "source": [
    "rpi_path='/home/install/Project/00-current/00-current/Dropout-Q-Functions-for-Doubly-Efficient-Reinforcement-Learning/5-droq/logs/'\n",
    "dir_logs='./logs'\n",
    "try:\n",
    "    command = ['rsync', '-av', '-e', 'ssh', f'alien:{rpi_path}', dir_logs]\n",
    "    subprocess.run(command, check=True)\n",
    "    print(\"rsync command executed successfully.\")\n",
    "except subprocess.CalledProcessError as e:\n",
    "    print(f\"Error executing rsync command: {e}\")"
   ],
   "metadata": {
    "collapsed": false,
    "ExecuteTime": {
     "end_time": "2023-11-22T22:25:48.857201977Z",
     "start_time": "2023-11-22T22:25:47.291613348Z"
    }
   }
  },
  {
   "cell_type": "code",
   "execution_count": 4,
   "metadata": {
    "ExecuteTime": {
     "end_time": "2023-11-22T22:25:48.937869305Z",
     "start_time": "2023-11-22T22:25:48.860101250Z"
    }
   },
   "outputs": [
    {
     "name": "stdout",
     "output_type": "stream",
     "text": [
      "['10', '11', '12', '13', '14', '15', '16', '17', '18', '19', '20', '21', '22', '23', '24', '25', '26', '27', '28', '29', '30', '31', '32', '33', '34', '35', '36', '37', '38', '39', '40', '41', '42', '43', '44', '45', '46', '47', '48', '49', '50', '51', '52', '53', '54', '55', '56', '57', '58', '59', '60', '61', '62', '63', '64', '65', '66', '67', '68', '69', '70', '71', '72', '73', '74', '75', '76', '77', '78']\n",
      "Loading data from ./logs/78\n",
      "[]\n"
     ]
    },
    {
     "ename": "IndexError",
     "evalue": "list index out of range",
     "output_type": "error",
     "traceback": [
      "\u001B[0;31m---------------------------------------------------------------------------\u001B[0m",
      "\u001B[0;31mIndexError\u001B[0m                                Traceback (most recent call last)",
      "\u001B[0;32m<ipython-input-4-519201cdf0cb>\u001B[0m in \u001B[0;36m<module>\u001B[0;34m\u001B[0m\n\u001B[1;32m     38\u001B[0m \u001B[0mprint\u001B[0m\u001B[0;34m(\u001B[0m\u001B[0;34mf'Loading data from {logpath}'\u001B[0m\u001B[0;34m)\u001B[0m\u001B[0;34m\u001B[0m\u001B[0;34m\u001B[0m\u001B[0m\n\u001B[1;32m     39\u001B[0m \u001B[0mdfs\u001B[0m\u001B[0;34m,\u001B[0m \u001B[0mnames\u001B[0m \u001B[0;34m=\u001B[0m \u001B[0mload_data\u001B[0m\u001B[0;34m(\u001B[0m\u001B[0mlogpath\u001B[0m\u001B[0;34m)\u001B[0m\u001B[0;34m\u001B[0m\u001B[0;34m\u001B[0m\u001B[0m\n\u001B[0;32m---> 40\u001B[0;31m \u001B[0mprint\u001B[0m\u001B[0;34m(\u001B[0m\u001B[0mdfs\u001B[0m\u001B[0;34m[\u001B[0m\u001B[0;36m0\u001B[0m\u001B[0;34m]\u001B[0m\u001B[0;34m.\u001B[0m\u001B[0mcolumns\u001B[0m\u001B[0;34m)\u001B[0m\u001B[0;34m\u001B[0m\u001B[0;34m\u001B[0m\u001B[0m\n\u001B[0m",
      "\u001B[0;31mIndexError\u001B[0m: list index out of range"
     ]
    }
   ],
   "source": [
    "def load_data(path):\n",
    "    \"\"\"\n",
    "    Loads all csv files in a directory into a list of dataframes\n",
    "    \"\"\"\n",
    "    # Create an empty list to store the processed dataframes\n",
    "    dataframes = []\n",
    "    names = []\n",
    "\n",
    "    # Use os.listdir() to get a list of all files in the directory\n",
    "    files = sorted(os.listdir(path))\n",
    "    print(files)\n",
    "\n",
    "    # Use a for loop to iterate through the list of files\n",
    "    for file in files:\n",
    "        # Check if the file is a csv file using the .endswith() method\n",
    "        if ('log_ep') in file:\n",
    "        # if file.endswith('.csv'):\n",
    "            # If it is a csv file, use pd.read_csv() to read the file into a dataframe\n",
    "            try:\n",
    "                df = pd.read_csv(os.path.join(path, file))\n",
    "                # Process the dataframe as needed (e.g. drop columns, rename columns, etc.)\n",
    "                if 'Unnamed: 0' in df.columns:\n",
    "                    df = df.drop(columns=['Unnamed: 0'])\n",
    "                # Append the processed dataframe to the list of processed dataframes\n",
    "                dataframes.append(df)\n",
    "                names.append(file)\n",
    "            except:\n",
    "                print('Error reading file: {}'.format(file))\n",
    "                continue\n",
    "\n",
    "    # Return the list of processed dataframes\n",
    "    return dataframes, names\n",
    "filedirs=sorted([f for f in os.listdir('./logs') if len(f)>1])\n",
    "\n",
    "print(filedirs) \n",
    "logpath=os.path.join('./logs',filedirs[-1])\n",
    "# logpath='./logs/23'\n",
    "print(f'Loading data from {logpath}')\n",
    "dfs, names = load_data(logpath)\n",
    "print(dfs[0].columns)"
   ]
  },
  {
   "cell_type": "code",
   "execution_count": null,
   "metadata": {
    "ExecuteTime": {
     "end_time": "2023-11-22T22:25:48.940423173Z",
     "start_time": "2023-11-22T22:25:48.939331449Z"
    }
   },
   "outputs": [],
   "source": [
    "diff_times=[]\n",
    "for i,df in zip(names, dfs):\n",
    "    ep_len=len(df['time'])\n",
    "    if len(df['time'])<90:\n",
    "        print(f'len:{ep_len}-{i}')\n",
    "        \n",
    "    diff_times.append(df['time'].diff().mean())\n",
    "    fig, ax = plt.subplots()\n",
    "    dft_diff=df['time'].diff()\n",
    "    idx_remove=dft_diff.nlargest(3).index\n",
    "    dft_diff=dft_diff.drop(idx_remove)\n",
    "    plt.plot(dft_diff)\n",
    "    plt.title('Episode: '+str(i))\n",
    "    plt.xlabel('Step')\n",
    "    plt.ylabel('Time')\n",
    "    plt.savefig(os.path.join(logpath,'episode_'+str(i)+'.png'))\n",
    "print(np.array(diff_times).mean())"
   ]
  }
 ],
 "metadata": {
  "kernelspec": {
   "display_name": "basec",
   "language": "python",
   "name": "python3"
  },
  "language_info": {
   "codemirror_mode": {
    "name": "ipython",
    "version": 3
   },
   "file_extension": ".py",
   "mimetype": "text/x-python",
   "name": "python",
   "nbconvert_exporter": "python",
   "pygments_lexer": "ipython3",
   "version": "3.9.12"
  }
 },
 "nbformat": 4,
 "nbformat_minor": 2
}
