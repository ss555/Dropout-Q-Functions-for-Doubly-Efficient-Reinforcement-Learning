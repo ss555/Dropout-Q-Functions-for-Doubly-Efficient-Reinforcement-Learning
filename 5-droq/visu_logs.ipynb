{
 "cells": [
  {
   "cell_type": "code",
   "execution_count": 45,
   "metadata": {
    "ExecuteTime": {
     "end_time": "2023-11-16T19:34:40.276426602Z",
     "start_time": "2023-11-16T19:34:40.236180954Z"
    }
   },
   "outputs": [],
   "source": [
    "# 1. Import necessary libraries\n",
    "# 2. Define a function that takes in a directory path as input\n",
    "# 3. Create an empty list to store the processed dataframes\n",
    "# 4. Use os.listdir() to get a list of all files in the directory\n",
    "# 5. Use a for loop to iterate through the list of files\n",
    "# 6. Check if the file is a csv file using the .endswith() method\n",
    "# 7. If it is a csv file, use pd.read_csv() to read the file into a dataframe\n",
    "# 8. Process the dataframe as needed (e.g. drop columns, rename columns, etc.)\n",
    "# 9. Append the processed dataframe to the list of processed dataframes\n",
    "# 10. Return the list of processed dataframes"
   ]
  },
  {
   "cell_type": "code",
   "execution_count": 46,
   "metadata": {
    "ExecuteTime": {
     "end_time": "2023-11-16T19:34:40.371517634Z",
     "start_time": "2023-11-16T19:34:40.276272392Z"
    }
   },
   "outputs": [],
   "source": [
    "import os\n",
    "import numpy as np\n",
    "import pandas as pd\n",
    "import matplotlib.pyplot as plt\n",
    "import seaborn as sns\n",
    "import warnings\n"
   ]
  },
  {
   "cell_type": "code",
   "execution_count": 47,
   "metadata": {
    "ExecuteTime": {
     "end_time": "2023-11-16T19:34:40.371820472Z",
     "start_time": "2023-11-16T19:34:40.278234059Z"
    }
   },
   "outputs": [
    {
     "name": "stdout",
     "output_type": "stream",
     "text": [
      "Loading data from ./logs/8\n",
      "['ep-0-vid-.mp4', 'ep-1-vid-.mp4', 'ep-10-vid-.mp4', 'ep-11-vid-.mp4', 'ep-12-vid-.mp4', 'ep-13-vid-.mp4', 'ep-14-vid-.mp4', 'ep-15-vid-.mp4', 'ep-16-vid-.mp4', 'ep-17-vid-.mp4', 'ep-18-vid-.mp4', 'ep-19-vid-.mp4', 'ep-2-vid-.mp4', 'ep-20-vid-.mp4', 'ep-21-vid-.mp4', 'ep-22-vid-.mp4', 'ep-23-vid-.mp4', 'ep-24-vid-.mp4', 'ep-25-vid-.mp4', 'ep-26-vid-.mp4', 'ep-27-vid-.mp4', 'ep-28-vid-.mp4', 'ep-29-vid-.mp4', 'ep-3-vid-.mp4', 'ep-30-vid-.mp4', 'ep-31-vid-.mp4', 'ep-32-vid-.mp4', 'ep-33-vid-.mp4', 'ep-34-vid-.mp4', 'ep-35-vid-.mp4', 'ep-36-vid-.mp4', 'ep-37-vid-.mp4', 'ep-38-vid-.mp4', 'ep-39-vid-.mp4', 'ep-4-vid-.mp4', 'ep-40-vid-.mp4', 'ep-41-vid-.mp4', 'ep-42-vid-.mp4', 'ep-43-vid-.mp4', 'ep-44-vid-.mp4', 'ep-45-vid-.mp4', 'ep-46-vid-.mp4', 'ep-47-vid-.mp4', 'ep-48-vid-.mp4', 'ep-49-vid-.mp4', 'ep-5-vid-.mp4', 'ep-50-vid-.mp4', 'ep-51-vid-.mp4', 'ep-52-vid-.mp4', 'ep-53-vid-.mp4', 'ep-54-vid-.mp4', 'ep-55-vid-.mp4', 'ep-56-vid-.mp4', 'ep-57-vid-.mp4', 'ep-58-vid-.mp4', 'ep-59-vid-.mp4', 'ep-6-vid-.mp4', 'ep-60-vid-.mp4', 'ep-61-vid-.mp4', 'ep-62-vid-.mp4', 'ep-63-vid-.mp4', 'ep-64-vid-.mp4', 'ep-65-vid-.mp4', 'ep-66-vid-.mp4', 'ep-67-vid-.mp4', 'ep-68-vid-.mp4', 'ep-69-vid-.mp4', 'ep-7-vid-.mp4', 'ep-70-vid-.mp4', 'ep-71-vid-.mp4', 'ep-72-vid-.mp4', 'ep-73-vid-.mp4', 'ep-74-vid-.mp4', 'ep-75-vid-.mp4', 'ep-76-vid-.mp4', 'ep-77-vid-.mp4', 'ep-78-vid-.mp4', 'ep-79-vid-.mp4', 'ep-8-vid-.mp4', 'ep-80-vid-.mp4', 'ep-81-vid-.mp4', 'ep-82-vid-.mp4', 'ep-83-vid-.mp4', 'ep-9-vid-.mp4', 'log_ep-0-2023-11-16 16:42:04.989208', 'log_ep-1-2023-11-16 16:42:20.351855', 'log_ep-10-2023-11-16 16:47:49.461645', 'log_ep-11-2023-11-16 16:48:27.559983', 'log_ep-12-2023-11-16 16:49:05.649003', 'log_ep-13-2023-11-16 16:49:43.948036', 'log_ep-14-2023-11-16 16:50:21.835401', 'log_ep-15-2023-11-16 16:50:59.721011', 'log_ep-16-2023-11-16 16:51:37.612972', 'log_ep-17-2023-11-16 16:52:15.297110', 'log_ep-18-2023-11-16 16:52:52.977940', 'log_ep-19-2023-11-16 16:53:30.663110', 'log_ep-2-2023-11-16 16:42:46.151776', 'log_ep-20-2023-11-16 16:54:08.346139', 'log_ep-21-2023-11-16 16:54:46.637068', 'log_ep-22-2023-11-16 16:55:24.327051', 'log_ep-23-2023-11-16 16:56:02.185514', 'log_ep-24-2023-11-16 16:56:40.513108', 'log_ep-25-2023-11-16 16:57:17.784167', 'log_ep-26-2023-11-16 16:57:55.876151', 'log_ep-27-2023-11-16 16:58:33.970106', 'log_ep-28-2023-11-16 16:59:12.065124', 'log_ep-29-2023-11-16 16:59:50.154115', 'log_ep-3-2023-11-16 16:43:24.655748', 'log_ep-30-2023-11-16 17:00:28.250253', 'log_ep-31-2023-11-16 17:01:06.339665', 'log_ep-32-2023-11-16 17:01:44.782219', 'log_ep-33-2023-11-16 17:02:23.135936', 'log_ep-34-2023-11-16 17:03:01.237033', 'log_ep-35-2023-11-16 17:03:39.328742', 'log_ep-36-2023-11-16 17:04:17.823865', 'log_ep-37-2023-11-16 17:04:56.334187', 'log_ep-38-2023-11-16 17:05:34.836229', 'log_ep-39-2023-11-16 17:06:12.724125', 'log_ep-4-2023-11-16 16:44:02.684235', 'log_ep-40-2023-11-16 17:06:50.812030', 'log_ep-41-2023-11-16 17:07:28.910248', 'log_ep-42-2023-11-16 17:08:07.204549', 'log_ep-43-2023-11-16 17:08:45.300246', 'log_ep-44-2023-11-16 17:09:23.395271', 'log_ep-45-2023-11-16 17:10:01.484358', 'log_ep-46-2023-11-16 17:10:39.578870', 'log_ep-47-2023-11-16 17:11:17.664345', 'log_ep-48-2023-11-16 17:11:55.969406', 'log_ep-49-2023-11-16 17:12:34.062396', 'log_ep-5-2023-11-16 16:44:40.845773', 'log_ep-50-2023-11-16 17:12:49.415708', 'log_ep-51-2023-11-16 17:13:27.512306', 'log_ep-52-2023-11-16 17:14:05.602594', 'log_ep-53-2023-11-16 17:14:43.901930', 'log_ep-54-2023-11-16 17:15:21.583558', 'log_ep-55-2023-11-16 17:16:00.090492', 'log_ep-56-2023-11-16 17:16:38.388450', 'log_ep-57-2023-11-16 17:17:16.480448', 'log_ep-58-2023-11-16 17:17:54.920585', 'log_ep-59-2023-11-16 17:18:33.486460', 'log_ep-6-2023-11-16 16:45:18.526917', 'log_ep-60-2023-11-16 17:19:11.572994', 'log_ep-61-2023-11-16 17:19:49.871758', 'log_ep-62-2023-11-16 17:20:28.172044', 'log_ep-63-2023-11-16 17:21:06.057686', 'log_ep-64-2023-11-16 17:21:44.356493', 'log_ep-65-2023-11-16 17:22:22.652174', 'log_ep-66-2023-11-16 17:23:01.159958', 'log_ep-67-2023-11-16 17:23:39.252803', 'log_ep-68-2023-11-16 17:24:17.550534', 'log_ep-69-2023-11-16 17:24:55.847882', 'log_ep-7-2023-11-16 16:45:56.211921', 'log_ep-70-2023-11-16 17:25:34.349611', 'log_ep-71-2023-11-16 17:26:12.639724', 'log_ep-72-2023-11-16 17:26:50.740604', 'log_ep-73-2023-11-16 17:27:29.243672', 'log_ep-74-2023-11-16 17:28:07.331732', 'log_ep-75-2023-11-16 17:28:45.428726', 'log_ep-76-2023-11-16 17:29:23.927514', 'log_ep-77-2023-11-16 17:30:02.367910', 'log_ep-78-2023-11-16 17:30:40.321635', 'log_ep-79-2023-11-16 17:31:18.611986', 'log_ep-8-2023-11-16 16:46:33.891979', 'log_ep-80-2023-11-16 17:31:56.711724', 'log_ep-81-2023-11-16 17:32:34.800769', 'log_ep-82-2023-11-16 17:33:13.102892', 'log_ep-83-2023-11-16 17:33:15.968470', 'log_ep-9-2023-11-16 16:47:11.574253']\n",
      "Index(['reward', 'action', 'obs', 'time'], dtype='object')\n"
     ]
    }
   ],
   "source": [
    "def load_data(path):\n",
    "    \"\"\"\n",
    "    Loads all csv files in a directory into a list of dataframes\n",
    "    \"\"\"\n",
    "    # Create an empty list to store the processed dataframes\n",
    "    dataframes = []\n",
    "    names = []\n",
    "\n",
    "    # Use os.listdir() to get a list of all files in the directory\n",
    "    files = sorted(os.listdir(path))\n",
    "    print(files)\n",
    "\n",
    "    # Use a for loop to iterate through the list of files\n",
    "    for file in files:\n",
    "        # Check if the file is a csv file using the .endswith() method\n",
    "        if ('log_ep') in file:\n",
    "        # if file.endswith('.csv'):\n",
    "            # If it is a csv file, use pd.read_csv() to read the file into a dataframe\n",
    "            try:\n",
    "                df = pd.read_csv(os.path.join(path, file))\n",
    "                # Process the dataframe as needed (e.g. drop columns, rename columns, etc.)\n",
    "                if 'Unnamed: 0' in df.columns:\n",
    "                    df = df.drop(columns=['Unnamed: 0'])\n",
    "                # Append the processed dataframe to the list of processed dataframes\n",
    "                dataframes.append(df)\n",
    "                names.append(file)\n",
    "            except:\n",
    "                print('Error reading file: {}'.format(file))\n",
    "                continue\n",
    "\n",
    "    # Return the list of processed dataframes\n",
    "    return dataframes, names\n",
    "\n",
    "logpath=os.path.join('./logs',sorted(os.listdir('./logs'))[-1])\n",
    "print(f'Loading data from {logpath}')\n",
    "dfs, names = load_data(logpath)\n",
    "print(dfs[0].columns)"
   ]
  },
  {
   "cell_type": "code",
   "execution_count": 50,
   "metadata": {
    "ExecuteTime": {
     "end_time": "2023-11-16T19:35:03.267155067Z",
     "start_time": "2023-11-16T19:34:56.935945917Z"
    }
   },
   "outputs": [
    {
     "name": "stdout",
     "output_type": "stream",
     "text": [
      "len:91-log_ep-0-2023-11-16 16:42:04.989208\n",
      "len:91-log_ep-1-2023-11-16 16:42:20.351855\n",
      "len:91-log_ep-10-2023-11-16 16:47:49.461645\n",
      "len:91-log_ep-11-2023-11-16 16:48:27.559983\n",
      "len:91-log_ep-12-2023-11-16 16:49:05.649003\n",
      "len:91-log_ep-13-2023-11-16 16:49:43.948036\n",
      "len:91-log_ep-14-2023-11-16 16:50:21.835401\n",
      "len:91-log_ep-15-2023-11-16 16:50:59.721011\n",
      "len:91-log_ep-16-2023-11-16 16:51:37.612972\n",
      "len:91-log_ep-17-2023-11-16 16:52:15.297110\n",
      "len:91-log_ep-18-2023-11-16 16:52:52.977940\n",
      "len:91-log_ep-19-2023-11-16 16:53:30.663110\n",
      "len:91-log_ep-2-2023-11-16 16:42:46.151776\n",
      "len:91-log_ep-20-2023-11-16 16:54:08.346139\n",
      "len:91-log_ep-21-2023-11-16 16:54:46.637068\n",
      "len:91-log_ep-22-2023-11-16 16:55:24.327051\n",
      "len:91-log_ep-23-2023-11-16 16:56:02.185514\n",
      "len:91-log_ep-24-2023-11-16 16:56:40.513108\n",
      "len:91-log_ep-25-2023-11-16 16:57:17.784167\n",
      "len:91-log_ep-26-2023-11-16 16:57:55.876151\n",
      "len:91-log_ep-27-2023-11-16 16:58:33.970106\n",
      "len:91-log_ep-28-2023-11-16 16:59:12.065124\n",
      "len:91-log_ep-29-2023-11-16 16:59:50.154115\n",
      "len:91-log_ep-3-2023-11-16 16:43:24.655748\n",
      "len:91-log_ep-30-2023-11-16 17:00:28.250253\n",
      "len:91-log_ep-31-2023-11-16 17:01:06.339665\n",
      "len:91-log_ep-32-2023-11-16 17:01:44.782219\n",
      "len:91-log_ep-33-2023-11-16 17:02:23.135936\n",
      "len:91-log_ep-34-2023-11-16 17:03:01.237033\n",
      "len:91-log_ep-35-2023-11-16 17:03:39.328742\n",
      "len:91-log_ep-36-2023-11-16 17:04:17.823865\n",
      "len:91-log_ep-37-2023-11-16 17:04:56.334187\n",
      "len:91-log_ep-38-2023-11-16 17:05:34.836229\n",
      "len:91-log_ep-39-2023-11-16 17:06:12.724125\n",
      "len:91-log_ep-4-2023-11-16 16:44:02.684235\n",
      "len:91-log_ep-40-2023-11-16 17:06:50.812030\n",
      "len:91-log_ep-41-2023-11-16 17:07:28.910248\n",
      "len:91-log_ep-42-2023-11-16 17:08:07.204549\n",
      "len:91-log_ep-43-2023-11-16 17:08:45.300246\n",
      "len:91-log_ep-44-2023-11-16 17:09:23.395271\n",
      "len:91-log_ep-45-2023-11-16 17:10:01.484358\n",
      "len:91-log_ep-46-2023-11-16 17:10:39.578870\n",
      "len:91-log_ep-47-2023-11-16 17:11:17.664345\n",
      "len:91-log_ep-48-2023-11-16 17:11:55.969406\n",
      "len:91-log_ep-49-2023-11-16 17:12:34.062396\n",
      "len:91-log_ep-5-2023-11-16 16:44:40.845773\n",
      "len:91-log_ep-50-2023-11-16 17:12:49.415708\n",
      "len:91-log_ep-51-2023-11-16 17:13:27.512306\n",
      "len:91-log_ep-52-2023-11-16 17:14:05.602594\n",
      "len:91-log_ep-53-2023-11-16 17:14:43.901930\n",
      "len:91-log_ep-54-2023-11-16 17:15:21.583558\n",
      "len:91-log_ep-55-2023-11-16 17:16:00.090492\n",
      "len:91-log_ep-56-2023-11-16 17:16:38.388450\n",
      "len:91-log_ep-57-2023-11-16 17:17:16.480448\n",
      "len:91-log_ep-58-2023-11-16 17:17:54.920585\n",
      "len:91-log_ep-59-2023-11-16 17:18:33.486460\n",
      "len:91-log_ep-6-2023-11-16 16:45:18.526917\n",
      "len:91-log_ep-60-2023-11-16 17:19:11.572994\n",
      "len:91-log_ep-61-2023-11-16 17:19:49.871758\n",
      "len:91-log_ep-62-2023-11-16 17:20:28.172044\n",
      "len:91-log_ep-63-2023-11-16 17:21:06.057686\n",
      "len:91-log_ep-64-2023-11-16 17:21:44.356493\n",
      "len:91-log_ep-65-2023-11-16 17:22:22.652174\n",
      "len:91-log_ep-66-2023-11-16 17:23:01.159958\n",
      "len:91-log_ep-67-2023-11-16 17:23:39.252803\n",
      "len:91-log_ep-68-2023-11-16 17:24:17.550534\n",
      "len:91-log_ep-69-2023-11-16 17:24:55.847882\n",
      "len:91-log_ep-7-2023-11-16 16:45:56.211921\n",
      "len:91-log_ep-70-2023-11-16 17:25:34.349611\n",
      "len:91-log_ep-71-2023-11-16 17:26:12.639724\n",
      "len:91-log_ep-72-2023-11-16 17:26:50.740604\n",
      "len:91-log_ep-73-2023-11-16 17:27:29.243672\n",
      "len:91-log_ep-74-2023-11-16 17:28:07.331732\n",
      "len:91-log_ep-75-2023-11-16 17:28:45.428726\n",
      "len:91-log_ep-76-2023-11-16 17:29:23.927514\n",
      "len:91-log_ep-77-2023-11-16 17:30:02.367910\n",
      "len:91-log_ep-78-2023-11-16 17:30:40.321635\n",
      "len:91-log_ep-79-2023-11-16 17:31:18.611986\n",
      "len:91-log_ep-8-2023-11-16 16:46:33.891979\n",
      "len:91-log_ep-80-2023-11-16 17:31:56.711724\n",
      "len:91-log_ep-81-2023-11-16 17:32:34.800769\n",
      "len:91-log_ep-82-2023-11-16 17:33:13.102892\n",
      "len:34-log_ep-83-2023-11-16 17:33:15.968470\n",
      "len:91-log_ep-9-2023-11-16 16:47:11.574253\n",
      "0.07824964022452914\n"
     ]
    }
   ],
   "source": [
    "diff_times=[]\n",
    "for i,df in zip(names, dfs):\n",
    "    ep_len=len(df['time'])\n",
    "    if len(df['time'])<90:\n",
    "        print(f'len:{ep_len}-{i}')\n",
    "        \n",
    "    diff_times.append(df['time'].diff().mean())\n",
    "    fig, ax = plt.subplots()\n",
    "    dft_diff=df['time'].diff()\n",
    "    idx_remove=dft_diff.nlargest(3).index\n",
    "    dft_diff=dft_diff.drop(idx_remove)\n",
    "    plt.plot(dft_diff)\n",
    "    plt.title('Episode: '+str(i))\n",
    "    plt.xlabel('Step')\n",
    "    plt.ylabel('Time')\n",
    "    plt.savefig(os.path.join(logpath,'episode_'+str(i)+'.png'))\n",
    "print(np.array(diff_times).mean())"
   ]
  },
  {
   "cell_type": "code",
   "execution_count": null,
   "outputs": [],
   "source": [],
   "metadata": {
    "collapsed": false
   }
  }
 ],
 "metadata": {
  "kernelspec": {
   "display_name": "basec",
   "language": "python",
   "name": "python3"
  },
  "language_info": {
   "codemirror_mode": {
    "name": "ipython",
    "version": 3
   },
   "file_extension": ".py",
   "mimetype": "text/x-python",
   "name": "python",
   "nbconvert_exporter": "python",
   "pygments_lexer": "ipython3",
   "version": "3.9.12"
  }
 },
 "nbformat": 4,
 "nbformat_minor": 2
}
