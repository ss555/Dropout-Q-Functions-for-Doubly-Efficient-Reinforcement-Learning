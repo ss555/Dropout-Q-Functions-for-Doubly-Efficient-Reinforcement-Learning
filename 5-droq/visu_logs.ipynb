{
 "cells": [
  {
   "cell_type": "code",
   "execution_count": 39,
   "metadata": {
    "ExecuteTime": {
     "end_time": "2023-11-16T15:16:20.105875483Z",
     "start_time": "2023-11-16T15:16:20.062795226Z"
    }
   },
   "outputs": [],
   "source": [
    "# 1. Import necessary libraries\n",
    "# 2. Define a function that takes in a directory path as input\n",
    "# 3. Create an empty list to store the processed dataframes\n",
    "# 4. Use os.listdir() to get a list of all files in the directory\n",
    "# 5. Use a for loop to iterate through the list of files\n",
    "# 6. Check if the file is a csv file using the .endswith() method\n",
    "# 7. If it is a csv file, use pd.read_csv() to read the file into a dataframe\n",
    "# 8. Process the dataframe as needed (e.g. drop columns, rename columns, etc.)\n",
    "# 9. Append the processed dataframe to the list of processed dataframes\n",
    "# 10. Return the list of processed dataframes"
   ]
  },
  {
   "cell_type": "code",
   "execution_count": 40,
   "metadata": {
    "ExecuteTime": {
     "end_time": "2023-11-16T15:16:20.424267047Z",
     "start_time": "2023-11-16T15:16:20.105786953Z"
    }
   },
   "outputs": [],
   "source": [
    "import os\n",
    "import numpy as np\n",
    "import pandas as pd\n",
    "import matplotlib.pyplot as plt\n",
    "import seaborn as sns\n",
    "import warnings\n"
   ]
  },
  {
   "cell_type": "code",
   "execution_count": 41,
   "metadata": {
    "ExecuteTime": {
     "end_time": "2023-11-16T15:16:20.424497209Z",
     "start_time": "2023-11-16T15:16:20.256873088Z"
    }
   },
   "outputs": [
    {
     "name": "stdout",
     "output_type": "stream",
     "text": [
      "Loading data from ./logs/5\n",
      "['ep-0-vid-.mp4', 'ep-1-vid-.mp4', 'ep-10-vid-.mp4', 'ep-100-vid-.mp4', 'ep-101-vid-.mp4', 'ep-102-vid-.mp4', 'ep-103-vid-.mp4', 'ep-104-vid-.mp4', 'ep-105-vid-.mp4', 'ep-106-vid-.mp4', 'ep-107-vid-.mp4', 'ep-108-vid-.mp4', 'ep-109-vid-.mp4', 'ep-11-vid-.mp4', 'ep-110-vid-.mp4', 'ep-111-vid-.mp4', 'ep-112-vid-.mp4', 'ep-12-vid-.mp4', 'ep-13-vid-.mp4', 'ep-14-vid-.mp4', 'ep-15-vid-.mp4', 'ep-16-vid-.mp4', 'ep-17-vid-.mp4', 'ep-18-vid-.mp4', 'ep-19-vid-.mp4', 'ep-2-vid-.mp4', 'ep-20-vid-.mp4', 'ep-21-vid-.mp4', 'ep-22-vid-.mp4', 'ep-23-vid-.mp4', 'ep-24-vid-.mp4', 'ep-25-vid-.mp4', 'ep-26-vid-.mp4', 'ep-27-vid-.mp4', 'ep-28-vid-.mp4', 'ep-29-vid-.mp4', 'ep-3-vid-.mp4', 'ep-30-vid-.mp4', 'ep-31-vid-.mp4', 'ep-32-vid-.mp4', 'ep-33-vid-.mp4', 'ep-34-vid-.mp4', 'ep-35-vid-.mp4', 'ep-36-vid-.mp4', 'ep-37-vid-.mp4', 'ep-38-vid-.mp4', 'ep-39-vid-.mp4', 'ep-4-vid-.mp4', 'ep-40-vid-.mp4', 'ep-41-vid-.mp4', 'ep-42-vid-.mp4', 'ep-43-vid-.mp4', 'ep-44-vid-.mp4', 'ep-45-vid-.mp4', 'ep-46-vid-.mp4', 'ep-47-vid-.mp4', 'ep-48-vid-.mp4', 'ep-49-vid-.mp4', 'ep-5-vid-.mp4', 'ep-50-vid-.mp4', 'ep-51-vid-.mp4', 'ep-52-vid-.mp4', 'ep-53-vid-.mp4', 'ep-54-vid-.mp4', 'ep-55-vid-.mp4', 'ep-56-vid-.mp4', 'ep-57-vid-.mp4', 'ep-58-vid-.mp4', 'ep-59-vid-.mp4', 'ep-6-vid-.mp4', 'ep-60-vid-.mp4', 'ep-61-vid-.mp4', 'ep-62-vid-.mp4', 'ep-63-vid-.mp4', 'ep-64-vid-.mp4', 'ep-65-vid-.mp4', 'ep-66-vid-.mp4', 'ep-67-vid-.mp4', 'ep-68-vid-.mp4', 'ep-69-vid-.mp4', 'ep-7-vid-.mp4', 'ep-70-vid-.mp4', 'ep-71-vid-.mp4', 'ep-72-vid-.mp4', 'ep-73-vid-.mp4', 'ep-74-vid-.mp4', 'ep-75-vid-.mp4', 'ep-76-vid-.mp4', 'ep-77-vid-.mp4', 'ep-78-vid-.mp4', 'ep-79-vid-.mp4', 'ep-8-vid-.mp4', 'ep-80-vid-.mp4', 'ep-81-vid-.mp4', 'ep-82-vid-.mp4', 'ep-83-vid-.mp4', 'ep-84-vid-.mp4', 'ep-85-vid-.mp4', 'ep-86-vid-.mp4', 'ep-87-vid-.mp4', 'ep-88-vid-.mp4', 'ep-89-vid-.mp4', 'ep-9-vid-.mp4', 'ep-90-vid-.mp4', 'ep-91-vid-.mp4', 'ep-92-vid-.mp4', 'ep-93-vid-.mp4', 'ep-94-vid-.mp4', 'ep-95-vid-.mp4', 'ep-96-vid-.mp4', 'ep-97-vid-.mp4', 'ep-98-vid-.mp4', 'ep-99-vid-.mp4', 'log_ep-0-2023-11-16 14:59:14.768867', 'log_ep-1-2023-11-16 14:59:57.984514', 'log_ep-10-2023-11-16 15:06:08.062799', 'log_ep-100-2023-11-16 16:06:18.074358', 'log_ep-101-2023-11-16 16:06:59.443507', 'log_ep-102-2023-11-16 16:07:41.017705', 'log_ep-103-2023-11-16 16:08:22.384483', 'log_ep-104-2023-11-16 16:08:40.816501', 'log_ep-105-2023-11-16 16:09:22.390115', 'log_ep-106-2023-11-16 16:10:03.694141', 'log_ep-107-2023-11-16 16:10:45.336640', 'log_ep-108-2023-11-16 16:11:26.498896', 'log_ep-109-2023-11-16 16:12:07.667575', 'log_ep-11-2023-11-16 15:06:48.202726', 'log_ep-110-2023-11-16 16:12:48.824660', 'log_ep-111-2023-11-16 16:13:30.201841', 'log_ep-112-2023-11-16 16:14:11.774645', 'log_ep-12-2023-11-16 15:07:31.414573', 'log_ep-13-2023-11-16 15:08:11.553163', 'log_ep-14-2023-11-16 15:08:51.696171', 'log_ep-15-2023-11-16 15:09:31.832962', 'log_ep-16-2023-11-16 15:10:11.977715', 'log_ep-17-2023-11-16 15:10:49.065220', 'log_ep-18-2023-11-16 15:11:32.262604', 'log_ep-19-2023-11-16 15:12:12.399167', 'log_ep-2-2023-11-16 15:00:38.128084', 'log_ep-20-2023-11-16 15:12:32.060958', 'log_ep-21-2023-11-16 15:13:12.204304', 'log_ep-22-2023-11-16 15:13:55.418755', 'log_ep-23-2023-11-16 15:14:35.556716', 'log_ep-24-2023-11-16 15:15:15.702898', 'log_ep-25-2023-11-16 15:15:55.832055', 'log_ep-26-2023-11-16 15:16:39.051586', 'log_ep-27-2023-11-16 15:17:18.983589', 'log_ep-28-2023-11-16 15:17:58.924521', 'log_ep-29-2023-11-16 15:18:38.856497', 'log_ep-3-2023-11-16 15:01:18.062325', 'log_ep-30-2023-11-16 15:19:18.791817', 'log_ep-31-2023-11-16 15:20:01.808675', 'log_ep-32-2023-11-16 15:20:38.663868', 'log_ep-33-2023-11-16 15:21:18.596448', 'log_ep-34-2023-11-16 15:21:58.547238', 'log_ep-35-2023-11-16 15:22:41.539767', 'log_ep-36-2023-11-16 15:23:21.223469', 'log_ep-37-2023-11-16 15:24:01.207823', 'log_ep-38-2023-11-16 15:24:41.147744', 'log_ep-39-2023-11-16 15:25:21.079843', 'log_ep-4-2023-11-16 15:01:58.200546', 'log_ep-40-2023-11-16 15:25:51.200694', 'log_ep-41-2023-11-16 15:26:09.631832', 'log_ep-42-2023-11-16 15:26:52.012000', 'log_ep-43-2023-11-16 15:27:34.411664', 'log_ep-44-2023-11-16 15:28:15.982901', 'log_ep-45-2023-11-16 15:28:57.559940', 'log_ep-46-2023-11-16 15:29:38.723909', 'log_ep-47-2023-11-16 15:30:20.093781', 'log_ep-48-2023-11-16 15:31:01.463935', 'log_ep-49-2023-11-16 15:31:42.626937', 'log_ep-5-2023-11-16 15:02:41.209218', 'log_ep-50-2023-11-16 15:32:24.199900', 'log_ep-51-2023-11-16 15:33:05.368995', 'log_ep-52-2023-11-16 15:33:46.942977', 'log_ep-53-2023-11-16 15:34:28.517884', 'log_ep-54-2023-11-16 15:35:10.091924', 'log_ep-55-2023-11-16 15:35:51.868051', 'log_ep-56-2023-11-16 15:36:33.445952', 'log_ep-57-2023-11-16 15:37:15.016091', 'log_ep-58-2023-11-16 15:37:56.388041', 'log_ep-59-2023-11-16 15:38:37.551072', 'log_ep-6-2023-11-16 15:03:21.351717', 'log_ep-60-2023-11-16 15:39:19.124300', 'log_ep-61-2023-11-16 15:40:00.497950', 'log_ep-62-2023-11-16 15:40:18.925873', 'log_ep-63-2023-11-16 15:41:00.295802', 'log_ep-64-2023-11-16 15:41:41.465045', 'log_ep-65-2023-11-16 15:42:22.835098', 'log_ep-66-2023-11-16 15:43:04.551083', 'log_ep-67-2023-11-16 15:43:46.189205', 'log_ep-68-2023-11-16 15:44:27.353119', 'log_ep-69-2023-11-16 15:45:08.928102', 'log_ep-7-2023-11-16 15:04:04.506880', 'log_ep-70-2023-11-16 15:45:50.083775', 'log_ep-71-2023-11-16 15:46:31.866808', 'log_ep-72-2023-11-16 15:47:13.446192', 'log_ep-73-2023-11-16 15:47:55.223604', 'log_ep-74-2023-11-16 15:48:36.391100', 'log_ep-75-2023-11-16 15:49:17.552216', 'log_ep-76-2023-11-16 15:49:59.130421', 'log_ep-77-2023-11-16 15:50:40.704209', 'log_ep-78-2023-11-16 15:51:22.274011', 'log_ep-79-2023-11-16 15:52:03.579785', 'log_ep-8-2023-11-16 15:04:47.572294', 'log_ep-80-2023-11-16 15:52:45.012285', 'log_ep-81-2023-11-16 15:53:26.592189', 'log_ep-82-2023-11-16 15:54:08.368320', 'log_ep-83-2023-11-16 15:54:26.803260', 'log_ep-84-2023-11-16 15:55:07.965287', 'log_ep-85-2023-11-16 15:55:49.128246', 'log_ep-86-2023-11-16 15:56:33.164312', 'log_ep-87-2023-11-16 15:57:14.325390', 'log_ep-88-2023-11-16 15:57:55.898401', 'log_ep-89-2023-11-16 15:58:40.140331', 'log_ep-9-2023-11-16 15:05:30.995354', 'log_ep-90-2023-11-16 15:59:21.510413', 'log_ep-91-2023-11-16 16:00:02.815402', 'log_ep-92-2023-11-16 16:00:44.860393', 'log_ep-93-2023-11-16 16:01:26.439405', 'log_ep-94-2023-11-16 16:02:07.808454', 'log_ep-95-2023-11-16 16:02:48.091596', 'log_ep-96-2023-11-16 16:03:32.592483', 'log_ep-97-2023-11-16 16:04:13.755572', 'log_ep-98-2023-11-16 16:04:54.919532', 'log_ep-99-2023-11-16 16:05:36.703555']\n",
      "Index(['reward', 'action', 'obs', 'time'], dtype='object')\n"
     ]
    }
   ],
   "source": [
    "def load_data(path):\n",
    "    \"\"\"\n",
    "    Loads all csv files in a directory into a list of dataframes\n",
    "    \"\"\"\n",
    "    # Create an empty list to store the processed dataframes\n",
    "    dataframes = []\n",
    "    names = []\n",
    "\n",
    "    # Use os.listdir() to get a list of all files in the directory\n",
    "    files = sorted(os.listdir(path))\n",
    "    print(files)\n",
    "\n",
    "    # Use a for loop to iterate through the list of files\n",
    "    for file in files:\n",
    "        # Check if the file is a csv file using the .endswith() method\n",
    "        if ('log_ep') in file:\n",
    "        # if file.endswith('.csv'):\n",
    "            # If it is a csv file, use pd.read_csv() to read the file into a dataframe\n",
    "            try:\n",
    "                df = pd.read_csv(os.path.join(path, file))\n",
    "                # Process the dataframe as needed (e.g. drop columns, rename columns, etc.)\n",
    "                if 'Unnamed: 0' in df.columns:\n",
    "                    df = df.drop(columns=['Unnamed: 0'])\n",
    "                # Append the processed dataframe to the list of processed dataframes\n",
    "                dataframes.append(df)\n",
    "                names.append(file)\n",
    "            except:\n",
    "                print('Error reading file: {}'.format(file))\n",
    "                continue\n",
    "\n",
    "    # Return the list of processed dataframes\n",
    "    return dataframes, names\n",
    "\n",
    "logpath=os.path.join('./logs',sorted(os.listdir('./logs'))[-1])\n",
    "print(f'Loading data from {logpath}')\n",
    "dfs, names = load_data(logpath)\n",
    "print(dfs[0].columns)"
   ]
  },
  {
   "cell_type": "code",
   "execution_count": 43,
   "metadata": {
    "ExecuteTime": {
     "end_time": "2023-11-16T15:16:38.807836968Z",
     "start_time": "2023-11-16T15:16:29.492106730Z"
    }
   },
   "outputs": [
    {
     "name": "stdout",
     "output_type": "stream",
     "text": [
      "len:118-log_ep-95-2023-11-16 16:02:48.091596\n",
      "0.07832473356462735\n"
     ]
    }
   ],
   "source": [
    "diff_times=[]\n",
    "for i,df in zip(names, dfs):\n",
    "    ep_len=len(df['time'])\n",
    "    if len(df['time'])<127:\n",
    "        print(f'len:{ep_len}-{i}')\n",
    "        \n",
    "    diff_times.append(df['time'].diff().mean())\n",
    "    fig, ax = plt.subplots()\n",
    "    dft_diff=df['time'].diff()\n",
    "    idx_remove=dft_diff.nlargest(3).index\n",
    "    dft_diff=dft_diff.drop(idx_remove)\n",
    "    plt.plot(dft_diff)\n",
    "    plt.title('Episode: '+str(i))\n",
    "    plt.xlabel('Step')\n",
    "    plt.ylabel('Time')\n",
    "    plt.savefig(os.path.join(logpath,'episode_'+str(i)+'.png'))\n",
    "print(np.array(diff_times).mean())"
   ]
  },
  {
   "cell_type": "code",
   "execution_count": 44,
   "outputs": [
    {
     "data": {
      "text/plain": "11776"
     },
     "execution_count": 44,
     "metadata": {},
     "output_type": "execute_result"
    }
   ],
   "source": [
    "92*128"
   ],
   "metadata": {
    "collapsed": false,
    "ExecuteTime": {
     "end_time": "2023-11-16T15:20:47.717972117Z",
     "start_time": "2023-11-16T15:20:47.675138837Z"
    }
   }
  },
  {
   "cell_type": "code",
   "execution_count": null,
   "outputs": [],
   "source": [],
   "metadata": {
    "collapsed": false
   }
  }
 ],
 "metadata": {
  "kernelspec": {
   "display_name": "basec",
   "language": "python",
   "name": "python3"
  },
  "language_info": {
   "codemirror_mode": {
    "name": "ipython",
    "version": 3
   },
   "file_extension": ".py",
   "mimetype": "text/x-python",
   "name": "python",
   "nbconvert_exporter": "python",
   "pygments_lexer": "ipython3",
   "version": "3.9.12"
  }
 },
 "nbformat": 4,
 "nbformat_minor": 2
}
