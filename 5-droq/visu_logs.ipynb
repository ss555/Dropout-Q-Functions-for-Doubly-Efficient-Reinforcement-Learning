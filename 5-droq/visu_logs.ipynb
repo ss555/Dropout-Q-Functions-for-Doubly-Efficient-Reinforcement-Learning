{
 "cells": [
  {
   "cell_type": "code",
   "execution_count": 36,
   "metadata": {
    "ExecuteTime": {
     "end_time": "2023-11-17T14:44:10.360892446Z",
     "start_time": "2023-11-17T14:44:10.315349970Z"
    }
   },
   "outputs": [],
   "source": [
    "# 1. Import necessary libraries\n",
    "# 2. Define a function that takes in a directory path as input\n",
    "# 3. Create an empty list to store the processed dataframes\n",
    "# 4. Use os.listdir() to get a list of all files in the directory\n",
    "# 5. Use a for loop to iterate through the list of files\n",
    "# 6. Check if the file is a csv file using the .endswith() method\n",
    "# 7. If it is a csv file, use pd.read_csv() to read the file into a dataframe\n",
    "# 8. Process the dataframe as needed (e.g. drop columns, rename columns, etc.)\n",
    "# 9. Append the processed dataframe to the list of processed dataframes\n",
    "# 10. Return the list of processed dataframes"
   ]
  },
  {
   "cell_type": "code",
   "execution_count": 37,
   "metadata": {
    "ExecuteTime": {
     "end_time": "2023-11-17T14:44:10.361174435Z",
     "start_time": "2023-11-17T14:44:10.360802230Z"
    }
   },
   "outputs": [],
   "source": [
    "import os\n",
    "import numpy as np\n",
    "import pandas as pd\n",
    "import matplotlib.pyplot as plt\n",
    "import seaborn as sns\n",
    "import warnings\n",
    "import subprocess"
   ]
  },
  {
   "cell_type": "code",
   "execution_count": 38,
   "outputs": [
    {
     "name": "stdout",
     "output_type": "stream",
     "text": [
      "rsync command executed successfully.\n"
     ]
    }
   ],
   "source": [
    "rpi_path='/home/install/Project/00-current/00-current/Dropout-Q-Functions-for-Doubly-Efficient-Reinforcement-Learning/5-droq/logs/'\n",
    "dir_logs='./logs'\n",
    "try:\n",
    "    command = ['rsync', '-av', '-e', 'ssh', f'alien:{rpi_path}', dir_logs]\n",
    "    subprocess.run(command, check=True)\n",
    "    print(\"rsync command executed successfully.\")\n",
    "except subprocess.CalledProcessError as e:\n",
    "    print(f\"Error executing rsync command: {e}\")"
   ],
   "metadata": {
    "collapsed": false,
    "ExecuteTime": {
     "end_time": "2023-11-17T14:44:12.743681104Z",
     "start_time": "2023-11-17T14:44:10.361000082Z"
    }
   }
  },
  {
   "cell_type": "code",
   "execution_count": 39,
   "metadata": {
    "ExecuteTime": {
     "end_time": "2023-11-17T14:44:12.743914647Z",
     "start_time": "2023-11-17T14:44:12.688487381Z"
    }
   },
   "outputs": [
    {
     "name": "stdout",
     "output_type": "stream",
     "text": [
      "['10', '11', '12', '13', '14', '15', '16', '17', '18', '19', '20', '21', '22', '23', '24', '25', '26', '27', '28', '29', '30', '31', '32', '33', '34', '35', '36', '37', '38', '39', '40', '41', '42', '43', '44', '45', '46', '47', '48', '49', '50', '51', '52', '53', '54', '55', '56', '57', '58', '59', '60', '61', '62', '63', '64', '65', '66', '67', '68', '69', '70', '71', '72', '73', '74', '75']\n",
      "Loading data from ./logs/75\n",
      "['ep-0-vid-.mp4', 'ep-1-vid-.mp4', 'ep-2-vid-.mp4', 'ep-3-vid-.mp4', 'ep-4-vid-.mp4', 'ep-5-vid-.mp4', 'ep-6-vid-.mp4', 'log_ep-0-2023-11-17 15:40:46.603776', 'log_ep-1-2023-11-17 15:41:00.967206', 'log_ep-2-2023-11-17 15:41:25.692275', 'log_ep-3-2023-11-17 15:41:50.464010', 'log_ep-4-2023-11-17 15:42:15.051392', 'log_ep-5-2023-11-17 15:42:39.620240', 'log_ep-6-2023-11-17 15:43:03.803300', 'model', 'summary']\n",
      "Index(['reward', 'action', 'obs', 'time'], dtype='object')\n"
     ]
    }
   ],
   "source": [
    "def load_data(path):\n",
    "    \"\"\"\n",
    "    Loads all csv files in a directory into a list of dataframes\n",
    "    \"\"\"\n",
    "    # Create an empty list to store the processed dataframes\n",
    "    dataframes = []\n",
    "    names = []\n",
    "\n",
    "    # Use os.listdir() to get a list of all files in the directory\n",
    "    files = sorted(os.listdir(path))\n",
    "    print(files)\n",
    "\n",
    "    # Use a for loop to iterate through the list of files\n",
    "    for file in files:\n",
    "        # Check if the file is a csv file using the .endswith() method\n",
    "        if ('log_ep') in file:\n",
    "        # if file.endswith('.csv'):\n",
    "            # If it is a csv file, use pd.read_csv() to read the file into a dataframe\n",
    "            try:\n",
    "                df = pd.read_csv(os.path.join(path, file))\n",
    "                # Process the dataframe as needed (e.g. drop columns, rename columns, etc.)\n",
    "                if 'Unnamed: 0' in df.columns:\n",
    "                    df = df.drop(columns=['Unnamed: 0'])\n",
    "                # Append the processed dataframe to the list of processed dataframes\n",
    "                dataframes.append(df)\n",
    "                names.append(file)\n",
    "            except:\n",
    "                print('Error reading file: {}'.format(file))\n",
    "                continue\n",
    "\n",
    "    # Return the list of processed dataframes\n",
    "    return dataframes, names\n",
    "filedirs=sorted([f for f in os.listdir('./logs') if len(f)>1])\n",
    "\n",
    "print(filedirs) \n",
    "logpath=os.path.join('./logs',filedirs[-1])\n",
    "# logpath='./logs/23'\n",
    "print(f'Loading data from {logpath}')\n",
    "dfs, names = load_data(logpath)\n",
    "print(dfs[0].columns)"
   ]
  },
  {
   "cell_type": "code",
   "execution_count": 40,
   "metadata": {
    "ExecuteTime": {
     "end_time": "2023-11-17T14:44:13.401165209Z",
     "start_time": "2023-11-17T14:44:12.732899559Z"
    }
   },
   "outputs": [
    {
     "name": "stdout",
     "output_type": "stream",
     "text": [
      "0.08136563149709551\n"
     ]
    }
   ],
   "source": [
    "diff_times=[]\n",
    "for i,df in zip(names, dfs):\n",
    "    ep_len=len(df['time'])\n",
    "    if len(df['time'])<90:\n",
    "        print(f'len:{ep_len}-{i}')\n",
    "        \n",
    "    diff_times.append(df['time'].diff().mean())\n",
    "    fig, ax = plt.subplots()\n",
    "    dft_diff=df['time'].diff()\n",
    "    idx_remove=dft_diff.nlargest(3).index\n",
    "    dft_diff=dft_diff.drop(idx_remove)\n",
    "    plt.plot(dft_diff)\n",
    "    plt.title('Episode: '+str(i))\n",
    "    plt.xlabel('Step')\n",
    "    plt.ylabel('Time')\n",
    "    plt.savefig(os.path.join(logpath,'episode_'+str(i)+'.png'))\n",
    "print(np.array(diff_times).mean())"
   ]
  }
 ],
 "metadata": {
  "kernelspec": {
   "display_name": "basec",
   "language": "python",
   "name": "python3"
  },
  "language_info": {
   "codemirror_mode": {
    "name": "ipython",
    "version": 3
   },
   "file_extension": ".py",
   "mimetype": "text/x-python",
   "name": "python",
   "nbconvert_exporter": "python",
   "pygments_lexer": "ipython3",
   "version": "3.9.12"
  }
 },
 "nbformat": 4,
 "nbformat_minor": 2
}
