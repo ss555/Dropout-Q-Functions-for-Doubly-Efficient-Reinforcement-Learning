{
 "cells": [
  {
   "cell_type": "code",
   "execution_count": 20,
   "metadata": {
    "ExecuteTime": {
     "end_time": "2023-11-16T13:02:02.649855430Z",
     "start_time": "2023-11-16T13:02:02.607809728Z"
    }
   },
   "outputs": [],
   "source": [
    "# 1. Import necessary libraries\n",
    "# 2. Define a function that takes in a directory path as input\n",
    "# 3. Create an empty list to store the processed dataframes\n",
    "# 4. Use os.listdir() to get a list of all files in the directory\n",
    "# 5. Use a for loop to iterate through the list of files\n",
    "# 6. Check if the file is a csv file using the .endswith() method\n",
    "# 7. If it is a csv file, use pd.read_csv() to read the file into a dataframe\n",
    "# 8. Process the dataframe as needed (e.g. drop columns, rename columns, etc.)\n",
    "# 9. Append the processed dataframe to the list of processed dataframes\n",
    "# 10. Return the list of processed dataframes"
   ]
  },
  {
   "cell_type": "code",
   "execution_count": 21,
   "metadata": {
    "ExecuteTime": {
     "end_time": "2023-11-16T13:02:02.655354681Z",
     "start_time": "2023-11-16T13:02:02.649685322Z"
    }
   },
   "outputs": [],
   "source": [
    "import os\n",
    "import numpy as np\n",
    "import pandas as pd\n",
    "import matplotlib.pyplot as plt\n",
    "import seaborn as sns\n",
    "import warnings\n"
   ]
  },
  {
   "cell_type": "code",
   "execution_count": 25,
   "metadata": {
    "ExecuteTime": {
     "end_time": "2023-11-16T13:02:41.225990549Z",
     "start_time": "2023-11-16T13:02:41.182931939Z"
    }
   },
   "outputs": [
    {
     "name": "stdout",
     "output_type": "stream",
     "text": [
      "Loading data from ./logs/2\n",
      "['log_ep-0-2023-11-16 13:59:47.583496', 'log_ep-1-2023-11-16 14:01:09.590075', 'log_ep-2-2023-11-16 14:02:35.531664']\n",
      "Index(['reward', 'action', 'obs', 'time'], dtype='object')\n"
     ]
    }
   ],
   "source": [
    "def load_data(path):\n",
    "    \"\"\"\n",
    "    Loads all csv files in a directory into a list of dataframes\n",
    "    \"\"\"\n",
    "    # Create an empty list to store the processed dataframes\n",
    "    dataframes = []\n",
    "    names = []\n",
    "\n",
    "    # Use os.listdir() to get a list of all files in the directory\n",
    "    files = sorted(os.listdir(path))\n",
    "    print(files)\n",
    "\n",
    "    # Use a for loop to iterate through the list of files\n",
    "    for file in files:\n",
    "        # Check if the file is a csv file using the .endswith() method\n",
    "        if ('log_ep') in file:\n",
    "        # if file.endswith('.csv'):\n",
    "            # If it is a csv file, use pd.read_csv() to read the file into a dataframe\n",
    "            try:\n",
    "                df = pd.read_csv(os.path.join(path, file))\n",
    "                # Process the dataframe as needed (e.g. drop columns, rename columns, etc.)\n",
    "                if 'Unnamed: 0' in df.columns:\n",
    "                    df = df.drop(columns=['Unnamed: 0'])\n",
    "                # Append the processed dataframe to the list of processed dataframes\n",
    "                dataframes.append(df)\n",
    "                names.append(file)\n",
    "            except:\n",
    "                print('Error reading file: {}'.format(file))\n",
    "                continue\n",
    "\n",
    "    # Return the list of processed dataframes\n",
    "    return dataframes, names\n",
    "\n",
    "logpath=os.path.join('./logs',sorted(os.listdir('./logs'))[-1])\n",
    "print(f'Loading data from {logpath}')\n",
    "dfs, names = load_data(logpath)\n",
    "print(dfs[0].columns)"
   ]
  },
  {
   "cell_type": "code",
   "execution_count": 26,
   "metadata": {
    "ExecuteTime": {
     "end_time": "2023-11-16T13:02:43.390375924Z",
     "start_time": "2023-11-16T13:02:43.119391334Z"
    }
   },
   "outputs": [
    {
     "name": "stdout",
     "output_type": "stream",
     "text": [
      "[0.00260914396494627, 0.002240379030505816, 0.0023415970305601754]\n"
     ]
    }
   ],
   "source": [
    "diff_times=[]\n",
    "for i,df in zip(names, dfs):\n",
    "    diff_times.append(df['time'].diff().mean())\n",
    "    fig, ax = plt.subplots()\n",
    "    dft_diff=df['time'].diff()\n",
    "    idx_remove=dft_diff.nlargest(3).index\n",
    "    dft_diff=dft_diff.drop(idx_remove)\n",
    "    plt.plot(dft_diff)\n",
    "    plt.title('Episode: '+str(i))\n",
    "    plt.xlabel('Step')\n",
    "    plt.ylabel('Time')\n",
    "    plt.savefig(os.path.join(logpath,'episode_'+str(i)+'.png'))\n",
    "print(diff_times)"
   ]
  }
 ],
 "metadata": {
  "kernelspec": {
   "display_name": "basec",
   "language": "python",
   "name": "python3"
  },
  "language_info": {
   "codemirror_mode": {
    "name": "ipython",
    "version": 3
   },
   "file_extension": ".py",
   "mimetype": "text/x-python",
   "name": "python",
   "nbconvert_exporter": "python",
   "pygments_lexer": "ipython3",
   "version": "3.9.12"
  }
 },
 "nbformat": 4,
 "nbformat_minor": 2
}
